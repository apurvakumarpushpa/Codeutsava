{
 "cells": [
  {
   "cell_type": "code",
   "execution_count": 1,
   "metadata": {},
   "outputs": [],
   "source": [
    "import graphlab\n",
    "import pandas as pd\n",
    "import numpy as np"
   ]
  },
  {
   "cell_type": "code",
   "execution_count": 2,
   "metadata": {},
   "outputs": [
    {
     "name": "stdout",
     "output_type": "stream",
     "text": [
      "This non-commercial license of GraphLab Create for academic use is assigned to akhtarmozammil@gmail.com and will expire on October 28, 2019.\n"
     ]
    },
    {
     "name": "stderr",
     "output_type": "stream",
     "text": [
      "[INFO] graphlab.cython.cy_server: GraphLab Create v2.1 started. Logging: C:\\Users\\MOZAMM~1\\AppData\\Local\\Temp\\graphlab_server_1550395590.log.0\n"
     ]
    },
    {
     "data": {
      "text/html": [
       "<pre>Finished parsing file D:\\codeutsava\\final1.csv</pre>"
      ],
      "text/plain": [
       "Finished parsing file D:\\codeutsava\\final1.csv"
      ]
     },
     "metadata": {},
     "output_type": "display_data"
    },
    {
     "data": {
      "text/html": [
       "<pre>Parsing completed. Parsed 100 lines in 0.041827 secs.</pre>"
      ],
      "text/plain": [
       "Parsing completed. Parsed 100 lines in 0.041827 secs."
      ]
     },
     "metadata": {},
     "output_type": "display_data"
    },
    {
     "name": "stdout",
     "output_type": "stream",
     "text": [
      "------------------------------------------------------\n",
      "Inferred types from first 100 line(s) of file as \n",
      "column_type_hints=[str,long,str,str,str,str,long,str,str,str,float,long,str]\n",
      "If parsing fails due to incorrect types, you can correct\n",
      "the inferred type list above and pass it to read_csv in\n",
      "the column_type_hints argument\n",
      "------------------------------------------------------\n"
     ]
    },
    {
     "data": {
      "text/html": [
       "<pre>Finished parsing file D:\\codeutsava\\final1.csv</pre>"
      ],
      "text/plain": [
       "Finished parsing file D:\\codeutsava\\final1.csv"
      ]
     },
     "metadata": {},
     "output_type": "display_data"
    },
    {
     "data": {
      "text/html": [
       "<pre>Parsing completed. Parsed 4999 lines in 0.040533 secs.</pre>"
      ],
      "text/plain": [
       "Parsing completed. Parsed 4999 lines in 0.040533 secs."
      ]
     },
     "metadata": {},
     "output_type": "display_data"
    }
   ],
   "source": [
    "data = graphlab.SFrame('D:/codeutsava/final1.csv')"
   ]
  },
  {
   "cell_type": "code",
   "execution_count": 3,
   "metadata": {},
   "outputs": [
    {
     "data": {
      "text/html": [
       "<div style=\"max-height:1000px;max-width:1500px;overflow:auto;\"><table frame=\"box\" rules=\"cols\">\n",
       "    <tr>\n",
       "        <th style=\"padding-left: 1em; padding-right: 1em; text-align: center\">User ID</th>\n",
       "        <th style=\"padding-left: 1em; padding-right: 1em; text-align: center\">Rating</th>\n",
       "        <th style=\"padding-left: 1em; padding-right: 1em; text-align: center\">Product ID</th>\n",
       "        <th style=\"padding-left: 1em; padding-right: 1em; text-align: center\">Category</th>\n",
       "        <th style=\"padding-left: 1em; padding-right: 1em; text-align: center\">Sub-Category</th>\n",
       "        <th style=\"padding-left: 1em; padding-right: 1em; text-align: center\">Description</th>\n",
       "        <th style=\"padding-left: 1em; padding-right: 1em; text-align: center\">Price</th>\n",
       "        <th style=\"padding-left: 1em; padding-right: 1em; text-align: center\">Order Priority</th>\n",
       "    </tr>\n",
       "    <tr>\n",
       "        <td style=\"padding-left: 1em; padding-right: 1em; text-align: center; vertical-align: top\">AB-100151402</td>\n",
       "        <td style=\"padding-left: 1em; padding-right: 1em; text-align: center; vertical-align: top\">2</td>\n",
       "        <td style=\"padding-left: 1em; padding-right: 1em; text-align: center; vertical-align: top\">TEC-PH-5816</td>\n",
       "        <td style=\"padding-left: 1em; padding-right: 1em; text-align: center; vertical-align: top\">Technology</td>\n",
       "        <td style=\"padding-left: 1em; padding-right: 1em; text-align: center; vertical-align: top\">Phones</td>\n",
       "        <td style=\"padding-left: 1em; padding-right: 1em; text-align: center; vertical-align: top\">WHITE HANGING HEART<br>T-LIGHT HOLDER ...</td>\n",
       "        <td style=\"padding-left: 1em; padding-right: 1em; text-align: center; vertical-align: top\">2100</td>\n",
       "        <td style=\"padding-left: 1em; padding-right: 1em; text-align: center; vertical-align: top\">High</td>\n",
       "    </tr>\n",
       "    <tr>\n",
       "        <td style=\"padding-left: 1em; padding-right: 1em; text-align: center; vertical-align: top\">JR-162107</td>\n",
       "        <td style=\"padding-left: 1em; padding-right: 1em; text-align: center; vertical-align: top\">4</td>\n",
       "        <td style=\"padding-left: 1em; padding-right: 1em; text-align: center; vertical-align: top\">FUR-CH-5379</td>\n",
       "        <td style=\"padding-left: 1em; padding-right: 1em; text-align: center; vertical-align: top\">Furniture</td>\n",
       "        <td style=\"padding-left: 1em; padding-right: 1em; text-align: center; vertical-align: top\">Chairs</td>\n",
       "        <td style=\"padding-left: 1em; padding-right: 1em; text-align: center; vertical-align: top\">WHITE METAL LANTERN</td>\n",
       "        <td style=\"padding-left: 1em; padding-right: 1em; text-align: center; vertical-align: top\">300</td>\n",
       "        <td style=\"padding-left: 1em; padding-right: 1em; text-align: center; vertical-align: top\">Critical</td>\n",
       "    </tr>\n",
       "    <tr>\n",
       "        <td style=\"padding-left: 1em; padding-right: 1em; text-align: center; vertical-align: top\">CR-127307</td>\n",
       "        <td style=\"padding-left: 1em; padding-right: 1em; text-align: center; vertical-align: top\">2</td>\n",
       "        <td style=\"padding-left: 1em; padding-right: 1em; text-align: center; vertical-align: top\">TEC-PH-5356</td>\n",
       "        <td style=\"padding-left: 1em; padding-right: 1em; text-align: center; vertical-align: top\">Technology</td>\n",
       "        <td style=\"padding-left: 1em; padding-right: 1em; text-align: center; vertical-align: top\">Phones</td>\n",
       "        <td style=\"padding-left: 1em; padding-right: 1em; text-align: center; vertical-align: top\">CREAM CUPID HEARTS COAT<br>HANGER ...</td>\n",
       "        <td style=\"padding-left: 1em; padding-right: 1em; text-align: center; vertical-align: top\">3300</td>\n",
       "        <td style=\"padding-left: 1em; padding-right: 1em; text-align: center; vertical-align: top\">Medium</td>\n",
       "    </tr>\n",
       "    <tr>\n",
       "        <td style=\"padding-left: 1em; padding-right: 1em; text-align: center; vertical-align: top\">KM-1637548</td>\n",
       "        <td style=\"padding-left: 1em; padding-right: 1em; text-align: center; vertical-align: top\">3</td>\n",
       "        <td style=\"padding-left: 1em; padding-right: 1em; text-align: center; vertical-align: top\">TEC-PH-5267</td>\n",
       "        <td style=\"padding-left: 1em; padding-right: 1em; text-align: center; vertical-align: top\">Technology</td>\n",
       "        <td style=\"padding-left: 1em; padding-right: 1em; text-align: center; vertical-align: top\">Phones</td>\n",
       "        <td style=\"padding-left: 1em; padding-right: 1em; text-align: center; vertical-align: top\">KNITTED UNION FLAG HOT<br>WATER BOTTLE ...</td>\n",
       "        <td style=\"padding-left: 1em; padding-right: 1em; text-align: center; vertical-align: top\">3500</td>\n",
       "        <td style=\"padding-left: 1em; padding-right: 1em; text-align: center; vertical-align: top\">Medium</td>\n",
       "    </tr>\n",
       "    <tr>\n",
       "        <td style=\"padding-left: 1em; padding-right: 1em; text-align: center; vertical-align: top\">RH-9495111</td>\n",
       "        <td style=\"padding-left: 1em; padding-right: 1em; text-align: center; vertical-align: top\">1</td>\n",
       "        <td style=\"padding-left: 1em; padding-right: 1em; text-align: center; vertical-align: top\">TEC-CO-6011</td>\n",
       "        <td style=\"padding-left: 1em; padding-right: 1em; text-align: center; vertical-align: top\">Technology</td>\n",
       "        <td style=\"padding-left: 1em; padding-right: 1em; text-align: center; vertical-align: top\">Copiers</td>\n",
       "        <td style=\"padding-left: 1em; padding-right: 1em; text-align: center; vertical-align: top\">RED WOOLLY HOTTIE WHITE<br>HEART. ...</td>\n",
       "        <td style=\"padding-left: 1em; padding-right: 1em; text-align: center; vertical-align: top\">800</td>\n",
       "        <td style=\"padding-left: 1em; padding-right: 1em; text-align: center; vertical-align: top\">Critical</td>\n",
       "    </tr>\n",
       "    <tr>\n",
       "        <td style=\"padding-left: 1em; padding-right: 1em; text-align: center; vertical-align: top\">JM-156557</td>\n",
       "        <td style=\"padding-left: 1em; padding-right: 1em; text-align: center; vertical-align: top\">3</td>\n",
       "        <td style=\"padding-left: 1em; padding-right: 1em; text-align: center; vertical-align: top\">TEC-PH-5842</td>\n",
       "        <td style=\"padding-left: 1em; padding-right: 1em; text-align: center; vertical-align: top\">Technology</td>\n",
       "        <td style=\"padding-left: 1em; padding-right: 1em; text-align: center; vertical-align: top\">Phones</td>\n",
       "        <td style=\"padding-left: 1em; padding-right: 1em; text-align: center; vertical-align: top\">SET 7 BABUSHKA NESTING<br>BOXES ...</td>\n",
       "        <td style=\"padding-left: 1em; padding-right: 1em; text-align: center; vertical-align: top\">3300</td>\n",
       "        <td style=\"padding-left: 1em; padding-right: 1em; text-align: center; vertical-align: top\">Critical</td>\n",
       "    </tr>\n",
       "    <tr>\n",
       "        <td style=\"padding-left: 1em; padding-right: 1em; text-align: center; vertical-align: top\">TS-2134092</td>\n",
       "        <td style=\"padding-left: 1em; padding-right: 1em; text-align: center; vertical-align: top\">5</td>\n",
       "        <td style=\"padding-left: 1em; padding-right: 1em; text-align: center; vertical-align: top\">FUR-CH-5378</td>\n",
       "        <td style=\"padding-left: 1em; padding-right: 1em; text-align: center; vertical-align: top\">Furniture</td>\n",
       "        <td style=\"padding-left: 1em; padding-right: 1em; text-align: center; vertical-align: top\">Chairs</td>\n",
       "        <td style=\"padding-left: 1em; padding-right: 1em; text-align: center; vertical-align: top\">GLASS STAR FROSTED<br>T-LIGHT HOLDER ...</td>\n",
       "        <td style=\"padding-left: 1em; padding-right: 1em; text-align: center; vertical-align: top\">800</td>\n",
       "        <td style=\"padding-left: 1em; padding-right: 1em; text-align: center; vertical-align: top\">Critical</td>\n",
       "    </tr>\n",
       "    <tr>\n",
       "        <td style=\"padding-left: 1em; padding-right: 1em; text-align: center; vertical-align: top\">MB-1808592</td>\n",
       "        <td style=\"padding-left: 1em; padding-right: 1em; text-align: center; vertical-align: top\">1</td>\n",
       "        <td style=\"padding-left: 1em; padding-right: 1em; text-align: center; vertical-align: top\">FUR-TA-3764</td>\n",
       "        <td style=\"padding-left: 1em; padding-right: 1em; text-align: center; vertical-align: top\">Furniture</td>\n",
       "        <td style=\"padding-left: 1em; padding-right: 1em; text-align: center; vertical-align: top\">Tables</td>\n",
       "        <td style=\"padding-left: 1em; padding-right: 1em; text-align: center; vertical-align: top\">HAND WARMER UNION JACK</td>\n",
       "        <td style=\"padding-left: 1em; padding-right: 1em; text-align: center; vertical-align: top\">3200</td>\n",
       "        <td style=\"padding-left: 1em; padding-right: 1em; text-align: center; vertical-align: top\">High</td>\n",
       "    </tr>\n",
       "    <tr>\n",
       "        <td style=\"padding-left: 1em; padding-right: 1em; text-align: center; vertical-align: top\">AB-100151402</td>\n",
       "        <td style=\"padding-left: 1em; padding-right: 1em; text-align: center; vertical-align: top\">1</td>\n",
       "        <td style=\"padding-left: 1em; padding-right: 1em; text-align: center; vertical-align: top\">FUR-BO-5957</td>\n",
       "        <td style=\"padding-left: 1em; padding-right: 1em; text-align: center; vertical-align: top\">Furniture</td>\n",
       "        <td style=\"padding-left: 1em; padding-right: 1em; text-align: center; vertical-align: top\">Bookcases</td>\n",
       "        <td style=\"padding-left: 1em; padding-right: 1em; text-align: center; vertical-align: top\">HAND WARMER RED POLKA DOT</td>\n",
       "        <td style=\"padding-left: 1em; padding-right: 1em; text-align: center; vertical-align: top\">2800</td>\n",
       "        <td style=\"padding-left: 1em; padding-right: 1em; text-align: center; vertical-align: top\">High</td>\n",
       "    </tr>\n",
       "    <tr>\n",
       "        <td style=\"padding-left: 1em; padding-right: 1em; text-align: center; vertical-align: top\">AB-100151404</td>\n",
       "        <td style=\"padding-left: 1em; padding-right: 1em; text-align: center; vertical-align: top\">5</td>\n",
       "        <td style=\"padding-left: 1em; padding-right: 1em; text-align: center; vertical-align: top\">FUR-CH-4421</td>\n",
       "        <td style=\"padding-left: 1em; padding-right: 1em; text-align: center; vertical-align: top\">Furniture</td>\n",
       "        <td style=\"padding-left: 1em; padding-right: 1em; text-align: center; vertical-align: top\">Chairs</td>\n",
       "        <td style=\"padding-left: 1em; padding-right: 1em; text-align: center; vertical-align: top\">ASSORTED COLOUR BIRD<br>ORNAMENT ...</td>\n",
       "        <td style=\"padding-left: 1em; padding-right: 1em; text-align: center; vertical-align: top\">2600</td>\n",
       "        <td style=\"padding-left: 1em; padding-right: 1em; text-align: center; vertical-align: top\">High</td>\n",
       "    </tr>\n",
       "</table>\n",
       "<table frame=\"box\" rules=\"cols\">\n",
       "    <tr>\n",
       "        <th style=\"padding-left: 1em; padding-right: 1em; text-align: center\">X9</th>\n",
       "        <th style=\"padding-left: 1em; padding-right: 1em; text-align: center\">Profit</th>\n",
       "        <th style=\"padding-left: 1em; padding-right: 1em; text-align: center\">Discount</th>\n",
       "        <th style=\"padding-left: 1em; padding-right: 1em; text-align: center\">Quantity purchased</th>\n",
       "        <th style=\"padding-left: 1em; padding-right: 1em; text-align: center\">Source</th>\n",
       "    </tr>\n",
       "    <tr>\n",
       "        <td style=\"padding-left: 1em; padding-right: 1em; text-align: center; vertical-align: top\"></td>\n",
       "        <td style=\"padding-left: 1em; padding-right: 1em; text-align: center; vertical-align: top\">$62.15</td>\n",
       "        <td style=\"padding-left: 1em; padding-right: 1em; text-align: center; vertical-align: top\">0.0</td>\n",
       "        <td style=\"padding-left: 1em; padding-right: 1em; text-align: center; vertical-align: top\">2</td>\n",
       "        <td style=\"padding-left: 1em; padding-right: 1em; text-align: center; vertical-align: top\">Bewakoof</td>\n",
       "    </tr>\n",
       "    <tr>\n",
       "        <td style=\"padding-left: 1em; padding-right: 1em; text-align: center; vertical-align: top\"></td>\n",
       "        <td style=\"padding-left: 1em; padding-right: 1em; text-align: center; vertical-align: top\">-$288.77</td>\n",
       "        <td style=\"padding-left: 1em; padding-right: 1em; text-align: center; vertical-align: top\">0.1</td>\n",
       "        <td style=\"padding-left: 1em; padding-right: 1em; text-align: center; vertical-align: top\">9</td>\n",
       "        <td style=\"padding-left: 1em; padding-right: 1em; text-align: center; vertical-align: top\">Bewakoof</td>\n",
       "    </tr>\n",
       "    <tr>\n",
       "        <td style=\"padding-left: 1em; padding-right: 1em; text-align: center; vertical-align: top\"></td>\n",
       "        <td style=\"padding-left: 1em; padding-right: 1em; text-align: center; vertical-align: top\">$919.97</td>\n",
       "        <td style=\"padding-left: 1em; padding-right: 1em; text-align: center; vertical-align: top\">0.1</td>\n",
       "        <td style=\"padding-left: 1em; padding-right: 1em; text-align: center; vertical-align: top\">9</td>\n",
       "        <td style=\"padding-left: 1em; padding-right: 1em; text-align: center; vertical-align: top\">Local Market</td>\n",
       "    </tr>\n",
       "    <tr>\n",
       "        <td style=\"padding-left: 1em; padding-right: 1em; text-align: center; vertical-align: top\"></td>\n",
       "        <td style=\"padding-left: 1em; padding-right: 1em; text-align: center; vertical-align: top\">-$96.54</td>\n",
       "        <td style=\"padding-left: 1em; padding-right: 1em; text-align: center; vertical-align: top\">0.1</td>\n",
       "        <td style=\"padding-left: 1em; padding-right: 1em; text-align: center; vertical-align: top\">5</td>\n",
       "        <td style=\"padding-left: 1em; padding-right: 1em; text-align: center; vertical-align: top\">Bewakoof</td>\n",
       "    </tr>\n",
       "    <tr>\n",
       "        <td style=\"padding-left: 1em; padding-right: 1em; text-align: center; vertical-align: top\"></td>\n",
       "        <td style=\"padding-left: 1em; padding-right: 1em; text-align: center; vertical-align: top\">$311.52</td>\n",
       "        <td style=\"padding-left: 1em; padding-right: 1em; text-align: center; vertical-align: top\">0.0</td>\n",
       "        <td style=\"padding-left: 1em; padding-right: 1em; text-align: center; vertical-align: top\">8</td>\n",
       "        <td style=\"padding-left: 1em; padding-right: 1em; text-align: center; vertical-align: top\">Bewakoof</td>\n",
       "    </tr>\n",
       "    <tr>\n",
       "        <td style=\"padding-left: 1em; padding-right: 1em; text-align: center; vertical-align: top\"></td>\n",
       "        <td style=\"padding-left: 1em; padding-right: 1em; text-align: center; vertical-align: top\">$763.28</td>\n",
       "        <td style=\"padding-left: 1em; padding-right: 1em; text-align: center; vertical-align: top\">0.1</td>\n",
       "        <td style=\"padding-left: 1em; padding-right: 1em; text-align: center; vertical-align: top\">5</td>\n",
       "        <td style=\"padding-left: 1em; padding-right: 1em; text-align: center; vertical-align: top\">Local Market</td>\n",
       "    </tr>\n",
       "    <tr>\n",
       "        <td style=\"padding-left: 1em; padding-right: 1em; text-align: center; vertical-align: top\"></td>\n",
       "        <td style=\"padding-left: 1em; padding-right: 1em; text-align: center; vertical-align: top\">$564.84</td>\n",
       "        <td style=\"padding-left: 1em; padding-right: 1em; text-align: center; vertical-align: top\">0.0</td>\n",
       "        <td style=\"padding-left: 1em; padding-right: 1em; text-align: center; vertical-align: top\">4</td>\n",
       "        <td style=\"padding-left: 1em; padding-right: 1em; text-align: center; vertical-align: top\">Bewakoof</td>\n",
       "    </tr>\n",
       "    <tr>\n",
       "        <td style=\"padding-left: 1em; padding-right: 1em; text-align: center; vertical-align: top\"></td>\n",
       "        <td style=\"padding-left: 1em; padding-right: 1em; text-align: center; vertical-align: top\">$996.48</td>\n",
       "        <td style=\"padding-left: 1em; padding-right: 1em; text-align: center; vertical-align: top\">0.0</td>\n",
       "        <td style=\"padding-left: 1em; padding-right: 1em; text-align: center; vertical-align: top\">6</td>\n",
       "        <td style=\"padding-left: 1em; padding-right: 1em; text-align: center; vertical-align: top\">Flipkart</td>\n",
       "    </tr>\n",
       "    <tr>\n",
       "        <td style=\"padding-left: 1em; padding-right: 1em; text-align: center; vertical-align: top\"></td>\n",
       "        <td style=\"padding-left: 1em; padding-right: 1em; text-align: center; vertical-align: top\">$54.71</td>\n",
       "        <td style=\"padding-left: 1em; padding-right: 1em; text-align: center; vertical-align: top\">0.0</td>\n",
       "        <td style=\"padding-left: 1em; padding-right: 1em; text-align: center; vertical-align: top\">2</td>\n",
       "        <td style=\"padding-left: 1em; padding-right: 1em; text-align: center; vertical-align: top\">Local Market</td>\n",
       "    </tr>\n",
       "    <tr>\n",
       "        <td style=\"padding-left: 1em; padding-right: 1em; text-align: center; vertical-align: top\"></td>\n",
       "        <td style=\"padding-left: 1em; padding-right: 1em; text-align: center; vertical-align: top\">$5.48</td>\n",
       "        <td style=\"padding-left: 1em; padding-right: 1em; text-align: center; vertical-align: top\">0.2</td>\n",
       "        <td style=\"padding-left: 1em; padding-right: 1em; text-align: center; vertical-align: top\">1</td>\n",
       "        <td style=\"padding-left: 1em; padding-right: 1em; text-align: center; vertical-align: top\">Local Market</td>\n",
       "    </tr>\n",
       "</table>\n",
       "[10 rows x 13 columns]<br/>\n",
       "</div>"
      ],
      "text/plain": [
       "Columns:\n",
       "\tUser ID\tstr\n",
       "\tRating\tint\n",
       "\tProduct ID\tstr\n",
       "\tCategory\tstr\n",
       "\tSub-Category\tstr\n",
       "\tDescription\tstr\n",
       "\tPrice\tint\n",
       "\tOrder Priority\tstr\n",
       "\tX9\tstr\n",
       "\tProfit\tstr\n",
       "\tDiscount\tfloat\n",
       "\tQuantity purchased\tint\n",
       "\tSource\tstr\n",
       "\n",
       "Rows: 10\n",
       "\n",
       "Data:\n",
       "+--------------+--------+-------------+------------+--------------+\n",
       "|   User ID    | Rating |  Product ID |  Category  | Sub-Category |\n",
       "+--------------+--------+-------------+------------+--------------+\n",
       "| AB-100151402 |   2    | TEC-PH-5816 | Technology |    Phones    |\n",
       "|  JR-162107   |   4    | FUR-CH-5379 | Furniture  |    Chairs    |\n",
       "|  CR-127307   |   2    | TEC-PH-5356 | Technology |    Phones    |\n",
       "|  KM-1637548  |   3    | TEC-PH-5267 | Technology |    Phones    |\n",
       "|  RH-9495111  |   1    | TEC-CO-6011 | Technology |   Copiers    |\n",
       "|  JM-156557   |   3    | TEC-PH-5842 | Technology |    Phones    |\n",
       "|  TS-2134092  |   5    | FUR-CH-5378 | Furniture  |    Chairs    |\n",
       "|  MB-1808592  |   1    | FUR-TA-3764 | Furniture  |    Tables    |\n",
       "| AB-100151402 |   1    | FUR-BO-5957 | Furniture  |  Bookcases   |\n",
       "| AB-100151404 |   5    | FUR-CH-4421 | Furniture  |    Chairs    |\n",
       "+--------------+--------+-------------+------------+--------------+\n",
       "+--------------------------------+-------+----------------+----+----------+----------+\n",
       "|          Description           | Price | Order Priority | X9 |  Profit  | Discount |\n",
       "+--------------------------------+-------+----------------+----+----------+----------+\n",
       "| WHITE HANGING HEART T-LIGH...  |  2100 |      High      |    |  $62.15  |   0.0    |\n",
       "|      WHITE METAL LANTERN       |  300  |    Critical    |    | -$288.77 |   0.1    |\n",
       "| CREAM CUPID HEARTS COAT HANGER |  3300 |     Medium     |    | $919.97  |   0.1    |\n",
       "| KNITTED UNION FLAG HOT WAT...  |  3500 |     Medium     |    | -$96.54  |   0.1    |\n",
       "| RED WOOLLY HOTTIE WHITE HEART. |  800  |    Critical    |    | $311.52  |   0.0    |\n",
       "|  SET 7 BABUSHKA NESTING BOXES  |  3300 |    Critical    |    | $763.28  |   0.1    |\n",
       "| GLASS STAR FROSTED T-LIGHT...  |  800  |    Critical    |    | $564.84  |   0.0    |\n",
       "|     HAND WARMER UNION JACK     |  3200 |      High      |    | $996.48  |   0.0    |\n",
       "|   HAND WARMER RED POLKA DOT    |  2800 |      High      |    |  $54.71  |   0.0    |\n",
       "| ASSORTED COLOUR BIRD ORNAMENT  |  2600 |      High      |    |  $5.48   |   0.2    |\n",
       "+--------------------------------+-------+----------------+----+----------+----------+\n",
       "+--------------------+--------------+\n",
       "| Quantity purchased |    Source    |\n",
       "+--------------------+--------------+\n",
       "|         2          |   Bewakoof   |\n",
       "|         9          |   Bewakoof   |\n",
       "|         9          | Local Market |\n",
       "|         5          |   Bewakoof   |\n",
       "|         8          |   Bewakoof   |\n",
       "|         5          | Local Market |\n",
       "|         4          |   Bewakoof   |\n",
       "|         6          |   Flipkart   |\n",
       "|         2          | Local Market |\n",
       "|         1          | Local Market |\n",
       "+--------------------+--------------+\n",
       "[10 rows x 13 columns]"
      ]
     },
     "execution_count": 3,
     "metadata": {},
     "output_type": "execute_result"
    }
   ],
   "source": [
    "data.head()"
   ]
  },
  {
   "cell_type": "code",
   "execution_count": 4,
   "metadata": {},
   "outputs": [
    {
     "data": {
      "text/plain": [
       "(4999, 13)"
      ]
     },
     "execution_count": 4,
     "metadata": {},
     "output_type": "execute_result"
    }
   ],
   "source": [
    "data.shape"
   ]
  },
  {
   "cell_type": "code",
   "execution_count": 5,
   "metadata": {},
   "outputs": [],
   "source": [
    "users = data['User ID'].unique()"
   ]
  },
  {
   "cell_type": "code",
   "execution_count": 6,
   "metadata": {},
   "outputs": [
    {
     "data": {
      "text/plain": [
       "(3548,)"
      ]
     },
     "execution_count": 6,
     "metadata": {},
     "output_type": "execute_result"
    }
   ],
   "source": [
    "users.shape"
   ]
  },
  {
   "cell_type": "code",
   "execution_count": 7,
   "metadata": {},
   "outputs": [],
   "source": [
    "train_data,test_data = data.random_split(.8,seed=0)"
   ]
  },
  {
   "cell_type": "markdown",
   "metadata": {},
   "source": [
    "# Recommender system based on popularity"
   ]
  },
  {
   "cell_type": "code",
   "execution_count": 8,
   "metadata": {},
   "outputs": [
    {
     "data": {
      "text/html": [
       "<pre>Recsys training: model = popularity</pre>"
      ],
      "text/plain": [
       "Recsys training: model = popularity"
      ]
     },
     "metadata": {},
     "output_type": "display_data"
    },
    {
     "data": {
      "text/html": [
       "<pre>Warning: Ignoring columns Rating, Product ID, Category, Description, Price, Order Priority, X9, Profit, Discount, Quantity purchased, Source;</pre>"
      ],
      "text/plain": [
       "Warning: Ignoring columns Rating, Product ID, Category, Description, Price, Order Priority, X9, Profit, Discount, Quantity purchased, Source;"
      ]
     },
     "metadata": {},
     "output_type": "display_data"
    },
    {
     "data": {
      "text/html": [
       "<pre>    To use one of these as a target column, set target = <column_name></pre>"
      ],
      "text/plain": [
       "    To use one of these as a target column, set target = <column_name>"
      ]
     },
     "metadata": {},
     "output_type": "display_data"
    }
   ],
   "source": [
    "popularity_model = graphlab.popularity_recommender.create(train_data,\n",
    "                                                         user_id='User ID',\n",
    "                                                         item_id='Sub-Category')"
   ]
  },
  {
   "cell_type": "code",
   "execution_count": 9,
   "metadata": {},
   "outputs": [
    {
     "data": {
      "text/html": [
       "<pre>    and use a method that allows the use of a target.</pre>"
      ],
      "text/plain": [
       "    and use a method that allows the use of a target."
      ]
     },
     "metadata": {},
     "output_type": "display_data"
    },
    {
     "data": {
      "text/html": [
       "<pre>Preparing data set.</pre>"
      ],
      "text/plain": [
       "Preparing data set."
      ]
     },
     "metadata": {},
     "output_type": "display_data"
    },
    {
     "data": {
      "text/html": [
       "<pre>    Data has 4018 observations with 2987 users and 17 items.</pre>"
      ],
      "text/plain": [
       "    Data has 4018 observations with 2987 users and 17 items."
      ]
     },
     "metadata": {},
     "output_type": "display_data"
    },
    {
     "data": {
      "text/html": [
       "<pre>    Data prepared in: 0.015626s</pre>"
      ],
      "text/plain": [
       "    Data prepared in: 0.015626s"
      ]
     },
     "metadata": {},
     "output_type": "display_data"
    },
    {
     "data": {
      "text/html": [
       "<pre>4018 observations to process; with 17 unique items.</pre>"
      ],
      "text/plain": [
       "4018 observations to process; with 17 unique items."
      ]
     },
     "metadata": {},
     "output_type": "display_data"
    },
    {
     "name": "stdout",
     "output_type": "stream",
     "text": [
      "Class                            : PopularityRecommender\n",
      "\n",
      "Schema\n",
      "------\n",
      "User ID                          : User ID\n",
      "Item ID                          : Sub-Category\n",
      "Target                           : None\n",
      "Additional observation features  : 0\n",
      "User side features               : []\n",
      "Item side features               : []\n",
      "\n",
      "Statistics\n",
      "----------\n",
      "Number of observations           : 4018\n",
      "Number of users                  : 2987\n",
      "Number of items                  : 17\n",
      "\n",
      "Training summary\n",
      "----------------\n",
      "Training time                    : 0.0\n",
      "\n",
      "Model Parameters\n",
      "----------------\n",
      "Model class                      : PopularityRecommender\n",
      "\n"
     ]
    }
   ],
   "source": [
    "popularity_model.summary()"
   ]
  },
  {
   "cell_type": "code",
   "execution_count": 10,
   "metadata": {},
   "outputs": [],
   "source": [
    "#Use the popularity model to make some predictions\n",
    "#A popularity model makes the same prediction for all users, so provides no personalization."
   ]
  },
  {
   "cell_type": "code",
   "execution_count": 11,
   "metadata": {},
   "outputs": [
    {
     "data": {
      "text/html": [
       "<div style=\"max-height:1000px;max-width:1500px;overflow:auto;\"><table frame=\"box\" rules=\"cols\">\n",
       "    <tr>\n",
       "        <th style=\"padding-left: 1em; padding-right: 1em; text-align: center\">User ID</th>\n",
       "        <th style=\"padding-left: 1em; padding-right: 1em; text-align: center\">Sub-Category</th>\n",
       "        <th style=\"padding-left: 1em; padding-right: 1em; text-align: center\">score</th>\n",
       "        <th style=\"padding-left: 1em; padding-right: 1em; text-align: center\">rank</th>\n",
       "    </tr>\n",
       "    <tr>\n",
       "        <td style=\"padding-left: 1em; padding-right: 1em; text-align: center; vertical-align: top\">ME-18010120</td>\n",
       "        <td style=\"padding-left: 1em; padding-right: 1em; text-align: center; vertical-align: top\">Copiers</td>\n",
       "        <td style=\"padding-left: 1em; padding-right: 1em; text-align: center; vertical-align: top\">569.0</td>\n",
       "        <td style=\"padding-left: 1em; padding-right: 1em; text-align: center; vertical-align: top\">1</td>\n",
       "    </tr>\n",
       "    <tr>\n",
       "        <td style=\"padding-left: 1em; padding-right: 1em; text-align: center; vertical-align: top\">ME-18010120</td>\n",
       "        <td style=\"padding-left: 1em; padding-right: 1em; text-align: center; vertical-align: top\">Phones</td>\n",
       "        <td style=\"padding-left: 1em; padding-right: 1em; text-align: center; vertical-align: top\">513.0</td>\n",
       "        <td style=\"padding-left: 1em; padding-right: 1em; text-align: center; vertical-align: top\">2</td>\n",
       "    </tr>\n",
       "    <tr>\n",
       "        <td style=\"padding-left: 1em; padding-right: 1em; text-align: center; vertical-align: top\">ME-18010120</td>\n",
       "        <td style=\"padding-left: 1em; padding-right: 1em; text-align: center; vertical-align: top\">Chairs</td>\n",
       "        <td style=\"padding-left: 1em; padding-right: 1em; text-align: center; vertical-align: top\">440.0</td>\n",
       "        <td style=\"padding-left: 1em; padding-right: 1em; text-align: center; vertical-align: top\">3</td>\n",
       "    </tr>\n",
       "    <tr>\n",
       "        <td style=\"padding-left: 1em; padding-right: 1em; text-align: center; vertical-align: top\">ME-18010120</td>\n",
       "        <td style=\"padding-left: 1em; padding-right: 1em; text-align: center; vertical-align: top\">Appliances</td>\n",
       "        <td style=\"padding-left: 1em; padding-right: 1em; text-align: center; vertical-align: top\">355.0</td>\n",
       "        <td style=\"padding-left: 1em; padding-right: 1em; text-align: center; vertical-align: top\">4</td>\n",
       "    </tr>\n",
       "    <tr>\n",
       "        <td style=\"padding-left: 1em; padding-right: 1em; text-align: center; vertical-align: top\">ME-18010120</td>\n",
       "        <td style=\"padding-left: 1em; padding-right: 1em; text-align: center; vertical-align: top\">Storage</td>\n",
       "        <td style=\"padding-left: 1em; padding-right: 1em; text-align: center; vertical-align: top\">339.0</td>\n",
       "        <td style=\"padding-left: 1em; padding-right: 1em; text-align: center; vertical-align: top\">5</td>\n",
       "    </tr>\n",
       "    <tr>\n",
       "        <td style=\"padding-left: 1em; padding-right: 1em; text-align: center; vertical-align: top\">ME-18010120</td>\n",
       "        <td style=\"padding-left: 1em; padding-right: 1em; text-align: center; vertical-align: top\">Accessories</td>\n",
       "        <td style=\"padding-left: 1em; padding-right: 1em; text-align: center; vertical-align: top\">248.0</td>\n",
       "        <td style=\"padding-left: 1em; padding-right: 1em; text-align: center; vertical-align: top\">6</td>\n",
       "    </tr>\n",
       "    <tr>\n",
       "        <td style=\"padding-left: 1em; padding-right: 1em; text-align: center; vertical-align: top\">ME-18010120</td>\n",
       "        <td style=\"padding-left: 1em; padding-right: 1em; text-align: center; vertical-align: top\">Tables</td>\n",
       "        <td style=\"padding-left: 1em; padding-right: 1em; text-align: center; vertical-align: top\">242.0</td>\n",
       "        <td style=\"padding-left: 1em; padding-right: 1em; text-align: center; vertical-align: top\">7</td>\n",
       "    </tr>\n",
       "    <tr>\n",
       "        <td style=\"padding-left: 1em; padding-right: 1em; text-align: center; vertical-align: top\">ME-18010120</td>\n",
       "        <td style=\"padding-left: 1em; padding-right: 1em; text-align: center; vertical-align: top\">Machines</td>\n",
       "        <td style=\"padding-left: 1em; padding-right: 1em; text-align: center; vertical-align: top\">229.0</td>\n",
       "        <td style=\"padding-left: 1em; padding-right: 1em; text-align: center; vertical-align: top\">8</td>\n",
       "    </tr>\n",
       "    <tr>\n",
       "        <td style=\"padding-left: 1em; padding-right: 1em; text-align: center; vertical-align: top\">ME-18010120</td>\n",
       "        <td style=\"padding-left: 1em; padding-right: 1em; text-align: center; vertical-align: top\">Binders</td>\n",
       "        <td style=\"padding-left: 1em; padding-right: 1em; text-align: center; vertical-align: top\">132.0</td>\n",
       "        <td style=\"padding-left: 1em; padding-right: 1em; text-align: center; vertical-align: top\">9</td>\n",
       "    </tr>\n",
       "    <tr>\n",
       "        <td style=\"padding-left: 1em; padding-right: 1em; text-align: center; vertical-align: top\">ME-18010120</td>\n",
       "        <td style=\"padding-left: 1em; padding-right: 1em; text-align: center; vertical-align: top\">Paper</td>\n",
       "        <td style=\"padding-left: 1em; padding-right: 1em; text-align: center; vertical-align: top\">106.0</td>\n",
       "        <td style=\"padding-left: 1em; padding-right: 1em; text-align: center; vertical-align: top\">10</td>\n",
       "    </tr>\n",
       "</table>\n",
       "[10 rows x 4 columns]<br/>\n",
       "</div>"
      ],
      "text/plain": [
       "Columns:\n",
       "\tUser ID\tstr\n",
       "\tSub-Category\tstr\n",
       "\tscore\tfloat\n",
       "\trank\tint\n",
       "\n",
       "Rows: 10\n",
       "\n",
       "Data:\n",
       "+-------------+--------------+-------+------+\n",
       "|   User ID   | Sub-Category | score | rank |\n",
       "+-------------+--------------+-------+------+\n",
       "| ME-18010120 |   Copiers    | 569.0 |  1   |\n",
       "| ME-18010120 |    Phones    | 513.0 |  2   |\n",
       "| ME-18010120 |    Chairs    | 440.0 |  3   |\n",
       "| ME-18010120 |  Appliances  | 355.0 |  4   |\n",
       "| ME-18010120 |   Storage    | 339.0 |  5   |\n",
       "| ME-18010120 | Accessories  | 248.0 |  6   |\n",
       "| ME-18010120 |    Tables    | 242.0 |  7   |\n",
       "| ME-18010120 |   Machines   | 229.0 |  8   |\n",
       "| ME-18010120 |   Binders    | 132.0 |  9   |\n",
       "| ME-18010120 |    Paper     | 106.0 |  10  |\n",
       "+-------------+--------------+-------+------+\n",
       "[10 rows x 4 columns]"
      ]
     },
     "execution_count": 11,
     "metadata": {},
     "output_type": "execute_result"
    }
   ],
   "source": [
    "popularity_model.recommend(users=[users[1]])"
   ]
  },
  {
   "cell_type": "code",
   "execution_count": 12,
   "metadata": {},
   "outputs": [
    {
     "data": {
      "text/html": [
       "<div style=\"max-height:1000px;max-width:1500px;overflow:auto;\"><table frame=\"box\" rules=\"cols\">\n",
       "    <tr>\n",
       "        <th style=\"padding-left: 1em; padding-right: 1em; text-align: center\">User ID</th>\n",
       "        <th style=\"padding-left: 1em; padding-right: 1em; text-align: center\">Sub-Category</th>\n",
       "        <th style=\"padding-left: 1em; padding-right: 1em; text-align: center\">score</th>\n",
       "        <th style=\"padding-left: 1em; padding-right: 1em; text-align: center\">rank</th>\n",
       "    </tr>\n",
       "    <tr>\n",
       "        <td style=\"padding-left: 1em; padding-right: 1em; text-align: center; vertical-align: top\">PO-919586</td>\n",
       "        <td style=\"padding-left: 1em; padding-right: 1em; text-align: center; vertical-align: top\">Copiers</td>\n",
       "        <td style=\"padding-left: 1em; padding-right: 1em; text-align: center; vertical-align: top\">569.0</td>\n",
       "        <td style=\"padding-left: 1em; padding-right: 1em; text-align: center; vertical-align: top\">1</td>\n",
       "    </tr>\n",
       "    <tr>\n",
       "        <td style=\"padding-left: 1em; padding-right: 1em; text-align: center; vertical-align: top\">PO-919586</td>\n",
       "        <td style=\"padding-left: 1em; padding-right: 1em; text-align: center; vertical-align: top\">Bookcases</td>\n",
       "        <td style=\"padding-left: 1em; padding-right: 1em; text-align: center; vertical-align: top\">543.0</td>\n",
       "        <td style=\"padding-left: 1em; padding-right: 1em; text-align: center; vertical-align: top\">2</td>\n",
       "    </tr>\n",
       "    <tr>\n",
       "        <td style=\"padding-left: 1em; padding-right: 1em; text-align: center; vertical-align: top\">PO-919586</td>\n",
       "        <td style=\"padding-left: 1em; padding-right: 1em; text-align: center; vertical-align: top\">Phones</td>\n",
       "        <td style=\"padding-left: 1em; padding-right: 1em; text-align: center; vertical-align: top\">513.0</td>\n",
       "        <td style=\"padding-left: 1em; padding-right: 1em; text-align: center; vertical-align: top\">3</td>\n",
       "    </tr>\n",
       "    <tr>\n",
       "        <td style=\"padding-left: 1em; padding-right: 1em; text-align: center; vertical-align: top\">PO-919586</td>\n",
       "        <td style=\"padding-left: 1em; padding-right: 1em; text-align: center; vertical-align: top\">Chairs</td>\n",
       "        <td style=\"padding-left: 1em; padding-right: 1em; text-align: center; vertical-align: top\">440.0</td>\n",
       "        <td style=\"padding-left: 1em; padding-right: 1em; text-align: center; vertical-align: top\">4</td>\n",
       "    </tr>\n",
       "    <tr>\n",
       "        <td style=\"padding-left: 1em; padding-right: 1em; text-align: center; vertical-align: top\">PO-919586</td>\n",
       "        <td style=\"padding-left: 1em; padding-right: 1em; text-align: center; vertical-align: top\">Appliances</td>\n",
       "        <td style=\"padding-left: 1em; padding-right: 1em; text-align: center; vertical-align: top\">355.0</td>\n",
       "        <td style=\"padding-left: 1em; padding-right: 1em; text-align: center; vertical-align: top\">5</td>\n",
       "    </tr>\n",
       "    <tr>\n",
       "        <td style=\"padding-left: 1em; padding-right: 1em; text-align: center; vertical-align: top\">PO-919586</td>\n",
       "        <td style=\"padding-left: 1em; padding-right: 1em; text-align: center; vertical-align: top\">Storage</td>\n",
       "        <td style=\"padding-left: 1em; padding-right: 1em; text-align: center; vertical-align: top\">339.0</td>\n",
       "        <td style=\"padding-left: 1em; padding-right: 1em; text-align: center; vertical-align: top\">6</td>\n",
       "    </tr>\n",
       "    <tr>\n",
       "        <td style=\"padding-left: 1em; padding-right: 1em; text-align: center; vertical-align: top\">PO-919586</td>\n",
       "        <td style=\"padding-left: 1em; padding-right: 1em; text-align: center; vertical-align: top\">Accessories</td>\n",
       "        <td style=\"padding-left: 1em; padding-right: 1em; text-align: center; vertical-align: top\">248.0</td>\n",
       "        <td style=\"padding-left: 1em; padding-right: 1em; text-align: center; vertical-align: top\">7</td>\n",
       "    </tr>\n",
       "    <tr>\n",
       "        <td style=\"padding-left: 1em; padding-right: 1em; text-align: center; vertical-align: top\">PO-919586</td>\n",
       "        <td style=\"padding-left: 1em; padding-right: 1em; text-align: center; vertical-align: top\">Binders</td>\n",
       "        <td style=\"padding-left: 1em; padding-right: 1em; text-align: center; vertical-align: top\">132.0</td>\n",
       "        <td style=\"padding-left: 1em; padding-right: 1em; text-align: center; vertical-align: top\">8</td>\n",
       "    </tr>\n",
       "    <tr>\n",
       "        <td style=\"padding-left: 1em; padding-right: 1em; text-align: center; vertical-align: top\">PO-919586</td>\n",
       "        <td style=\"padding-left: 1em; padding-right: 1em; text-align: center; vertical-align: top\">Paper</td>\n",
       "        <td style=\"padding-left: 1em; padding-right: 1em; text-align: center; vertical-align: top\">106.0</td>\n",
       "        <td style=\"padding-left: 1em; padding-right: 1em; text-align: center; vertical-align: top\">9</td>\n",
       "    </tr>\n",
       "    <tr>\n",
       "        <td style=\"padding-left: 1em; padding-right: 1em; text-align: center; vertical-align: top\">PO-919586</td>\n",
       "        <td style=\"padding-left: 1em; padding-right: 1em; text-align: center; vertical-align: top\">Furnishings</td>\n",
       "        <td style=\"padding-left: 1em; padding-right: 1em; text-align: center; vertical-align: top\">103.0</td>\n",
       "        <td style=\"padding-left: 1em; padding-right: 1em; text-align: center; vertical-align: top\">10</td>\n",
       "    </tr>\n",
       "</table>\n",
       "[10 rows x 4 columns]<br/>\n",
       "</div>"
      ],
      "text/plain": [
       "Columns:\n",
       "\tUser ID\tstr\n",
       "\tSub-Category\tstr\n",
       "\tscore\tfloat\n",
       "\trank\tint\n",
       "\n",
       "Rows: 10\n",
       "\n",
       "Data:\n",
       "+-----------+--------------+-------+------+\n",
       "|  User ID  | Sub-Category | score | rank |\n",
       "+-----------+--------------+-------+------+\n",
       "| PO-919586 |   Copiers    | 569.0 |  1   |\n",
       "| PO-919586 |  Bookcases   | 543.0 |  2   |\n",
       "| PO-919586 |    Phones    | 513.0 |  3   |\n",
       "| PO-919586 |    Chairs    | 440.0 |  4   |\n",
       "| PO-919586 |  Appliances  | 355.0 |  5   |\n",
       "| PO-919586 |   Storage    | 339.0 |  6   |\n",
       "| PO-919586 | Accessories  | 248.0 |  7   |\n",
       "| PO-919586 |   Binders    | 132.0 |  8   |\n",
       "| PO-919586 |    Paper     | 106.0 |  9   |\n",
       "| PO-919586 | Furnishings  | 103.0 |  10  |\n",
       "+-----------+--------------+-------+------+\n",
       "[10 rows x 4 columns]"
      ]
     },
     "execution_count": 12,
     "metadata": {},
     "output_type": "execute_result"
    }
   ],
   "source": [
    "popularity_model.recommend(users=[users[0]])"
   ]
  },
  {
   "cell_type": "markdown",
   "metadata": {},
   "source": [
    "# Recommender system with personalization"
   ]
  },
  {
   "cell_type": "code",
   "execution_count": 13,
   "metadata": {},
   "outputs": [
    {
     "data": {
      "text/html": [
       "<pre>Recsys training: model = item_similarity</pre>"
      ],
      "text/plain": [
       "Recsys training: model = item_similarity"
      ]
     },
     "metadata": {},
     "output_type": "display_data"
    },
    {
     "data": {
      "text/html": [
       "<pre>Warning: Ignoring columns Rating, Product ID, Category, Description, Price, Order Priority, X9, Profit, Discount, Quantity purchased, Source;</pre>"
      ],
      "text/plain": [
       "Warning: Ignoring columns Rating, Product ID, Category, Description, Price, Order Priority, X9, Profit, Discount, Quantity purchased, Source;"
      ]
     },
     "metadata": {},
     "output_type": "display_data"
    },
    {
     "data": {
      "text/html": [
       "<pre>    To use one of these as a target column, set target = <column_name></pre>"
      ],
      "text/plain": [
       "    To use one of these as a target column, set target = <column_name>"
      ]
     },
     "metadata": {},
     "output_type": "display_data"
    },
    {
     "data": {
      "text/html": [
       "<pre>    and use a method that allows the use of a target.</pre>"
      ],
      "text/plain": [
       "    and use a method that allows the use of a target."
      ]
     },
     "metadata": {},
     "output_type": "display_data"
    },
    {
     "data": {
      "text/html": [
       "<pre>Preparing data set.</pre>"
      ],
      "text/plain": [
       "Preparing data set."
      ]
     },
     "metadata": {},
     "output_type": "display_data"
    },
    {
     "data": {
      "text/html": [
       "<pre>    Data has 4018 observations with 2987 users and 17 items.</pre>"
      ],
      "text/plain": [
       "    Data has 4018 observations with 2987 users and 17 items."
      ]
     },
     "metadata": {},
     "output_type": "display_data"
    },
    {
     "data": {
      "text/html": [
       "<pre>    Data prepared in: 0.016991s</pre>"
      ],
      "text/plain": [
       "    Data prepared in: 0.016991s"
      ]
     },
     "metadata": {},
     "output_type": "display_data"
    },
    {
     "data": {
      "text/html": [
       "<pre>Training model from provided data.</pre>"
      ],
      "text/plain": [
       "Training model from provided data."
      ]
     },
     "metadata": {},
     "output_type": "display_data"
    },
    {
     "data": {
      "text/html": [
       "<pre>Gathering per-item and per-user statistics.</pre>"
      ],
      "text/plain": [
       "Gathering per-item and per-user statistics."
      ]
     },
     "metadata": {},
     "output_type": "display_data"
    },
    {
     "data": {
      "text/html": [
       "<pre>+--------------------------------+------------+</pre>"
      ],
      "text/plain": [
       "+--------------------------------+------------+"
      ]
     },
     "metadata": {},
     "output_type": "display_data"
    },
    {
     "data": {
      "text/html": [
       "<pre>| Elapsed Time (Item Statistics) | % Complete |</pre>"
      ],
      "text/plain": [
       "| Elapsed Time (Item Statistics) | % Complete |"
      ]
     },
     "metadata": {},
     "output_type": "display_data"
    }
   ],
   "source": [
    "personalized_model = graphlab.recommender.item_similarity_recommender.create(train_data,\n",
    "                                                                user_id='User ID',\n",
    "                                                                item_id='Sub-Category')"
   ]
  },
  {
   "cell_type": "code",
   "execution_count": 14,
   "metadata": {},
   "outputs": [
    {
     "data": {
      "text/html": [
       "<pre>+--------------------------------+------------+</pre>"
      ],
      "text/plain": [
       "+--------------------------------+------------+"
      ]
     },
     "metadata": {},
     "output_type": "display_data"
    },
    {
     "data": {
      "text/html": [
       "<pre>| 998us                          | 33.25      |</pre>"
      ],
      "text/plain": [
       "| 998us                          | 33.25      |"
      ]
     },
     "metadata": {},
     "output_type": "display_data"
    },
    {
     "data": {
      "text/html": [
       "<pre>| 3.996ms                        | 100        |</pre>"
      ],
      "text/plain": [
       "| 3.996ms                        | 100        |"
      ]
     },
     "metadata": {},
     "output_type": "display_data"
    },
    {
     "data": {
      "text/html": [
       "<pre>+--------------------------------+------------+</pre>"
      ],
      "text/plain": [
       "+--------------------------------+------------+"
      ]
     },
     "metadata": {},
     "output_type": "display_data"
    },
    {
     "data": {
      "text/html": [
       "<pre>Setting up lookup tables.</pre>"
      ],
      "text/plain": [
       "Setting up lookup tables."
      ]
     },
     "metadata": {},
     "output_type": "display_data"
    },
    {
     "name": "stdout",
     "output_type": "stream",
     "text": [
      "Class                            : ItemSimilarityRecommender\n",
      "\n",
      "Schema\n",
      "------\n",
      "User ID                          : User ID\n",
      "Item ID                          : Sub-Category\n",
      "Target                           : None\n",
      "Additional observation features  : 0\n",
      "User side features               : []\n",
      "Item side features               : []\n",
      "\n",
      "Statistics\n",
      "----------\n",
      "Number of observations           : 4018\n",
      "Number of users                  : 2987\n",
      "Number of items                  : 17\n",
      "\n",
      "Training summary\n",
      "----------------\n",
      "Training time                    : 1.0083\n",
      "\n",
      "Model Parameters\n",
      "----------------\n",
      "Model class                      : ItemSimilarityRecommender\n",
      "threshold                        : 0.001\n",
      "similarity_type                  : jaccard\n",
      "training_method                  : auto\n",
      "\n",
      "Other Settings\n",
      "--------------\n",
      "degree_approximation_threshold   : 4096\n",
      "sparse_density_estimation_sample_size : 4096\n",
      "max_data_passes                  : 4096\n",
      "target_memory_usage              : 8589934592\n",
      "seed_item_set_size               : 50\n",
      "nearest_neighbors_interaction_proportion_threshold : 0.05\n",
      "max_item_neighborhood_size       : 64\n",
      "\n"
     ]
    },
    {
     "data": {
      "text/html": [
       "<pre>Processing data in one pass using dense lookup tables.</pre>"
      ],
      "text/plain": [
       "Processing data in one pass using dense lookup tables."
      ]
     },
     "metadata": {},
     "output_type": "display_data"
    },
    {
     "data": {
      "text/html": [
       "<pre>+-------------------------------------+------------------+-----------------+</pre>"
      ],
      "text/plain": [
       "+-------------------------------------+------------------+-----------------+"
      ]
     },
     "metadata": {},
     "output_type": "display_data"
    }
   ],
   "source": [
    "personalized_model.summary()"
   ]
  },
  {
   "cell_type": "code",
   "execution_count": 15,
   "metadata": {},
   "outputs": [
    {
     "data": {
      "text/html": [
       "<pre>| Elapsed Time (Constructing Lookups) | Total % Complete | Items Processed |</pre>"
      ],
      "text/plain": [
       "| Elapsed Time (Constructing Lookups) | Total % Complete | Items Processed |"
      ]
     },
     "metadata": {},
     "output_type": "display_data"
    },
    {
     "data": {
      "text/html": [
       "<pre>+-------------------------------------+------------------+-----------------+</pre>"
      ],
      "text/plain": [
       "+-------------------------------------+------------------+-----------------+"
      ]
     },
     "metadata": {},
     "output_type": "display_data"
    },
    {
     "data": {
      "text/html": [
       "<pre>| 4.998ms                             | 0                | 0               |</pre>"
      ],
      "text/plain": [
       "| 4.998ms                             | 0                | 0               |"
      ]
     },
     "metadata": {},
     "output_type": "display_data"
    },
    {
     "data": {
      "text/html": [
       "<pre>| 5.994ms                             | 100              | 17              |</pre>"
      ],
      "text/plain": [
       "| 5.994ms                             | 100              | 17              |"
      ]
     },
     "metadata": {},
     "output_type": "display_data"
    },
    {
     "data": {
      "text/html": [
       "<pre>+-------------------------------------+------------------+-----------------+</pre>"
      ],
      "text/plain": [
       "+-------------------------------------+------------------+-----------------+"
      ]
     },
     "metadata": {},
     "output_type": "display_data"
    },
    {
     "data": {
      "text/html": [
       "<pre>Finalizing lookup tables.</pre>"
      ],
      "text/plain": [
       "Finalizing lookup tables."
      ]
     },
     "metadata": {},
     "output_type": "display_data"
    },
    {
     "data": {
      "text/html": [
       "<pre>Generating candidate set for working with new users.</pre>"
      ],
      "text/plain": [
       "Generating candidate set for working with new users."
      ]
     },
     "metadata": {},
     "output_type": "display_data"
    },
    {
     "data": {
      "text/html": [
       "<pre>Finished training in 1.00828s</pre>"
      ],
      "text/plain": [
       "Finished training in 1.00828s"
      ]
     },
     "metadata": {},
     "output_type": "display_data"
    },
    {
     "data": {
      "text/html": [
       "<div style=\"max-height:1000px;max-width:1500px;overflow:auto;\"><table frame=\"box\" rules=\"cols\">\n",
       "    <tr>\n",
       "        <th style=\"padding-left: 1em; padding-right: 1em; text-align: center\">User ID</th>\n",
       "        <th style=\"padding-left: 1em; padding-right: 1em; text-align: center\">Sub-Category</th>\n",
       "        <th style=\"padding-left: 1em; padding-right: 1em; text-align: center\">score</th>\n",
       "        <th style=\"padding-left: 1em; padding-right: 1em; text-align: center\">rank</th>\n",
       "    </tr>\n",
       "    <tr>\n",
       "        <td style=\"padding-left: 1em; padding-right: 1em; text-align: center; vertical-align: top\">PO-919586</td>\n",
       "        <td style=\"padding-left: 1em; padding-right: 1em; text-align: center; vertical-align: top\">Binders</td>\n",
       "        <td style=\"padding-left: 1em; padding-right: 1em; text-align: center; vertical-align: top\">0.0228381454945</td>\n",
       "        <td style=\"padding-left: 1em; padding-right: 1em; text-align: center; vertical-align: top\">1</td>\n",
       "    </tr>\n",
       "    <tr>\n",
       "        <td style=\"padding-left: 1em; padding-right: 1em; text-align: center; vertical-align: top\">PO-919586</td>\n",
       "        <td style=\"padding-left: 1em; padding-right: 1em; text-align: center; vertical-align: top\">Phones</td>\n",
       "        <td style=\"padding-left: 1em; padding-right: 1em; text-align: center; vertical-align: top\">0.0225782096386</td>\n",
       "        <td style=\"padding-left: 1em; padding-right: 1em; text-align: center; vertical-align: top\">2</td>\n",
       "    </tr>\n",
       "    <tr>\n",
       "        <td style=\"padding-left: 1em; padding-right: 1em; text-align: center; vertical-align: top\">PO-919586</td>\n",
       "        <td style=\"padding-left: 1em; padding-right: 1em; text-align: center; vertical-align: top\">Bookcases</td>\n",
       "        <td style=\"padding-left: 1em; padding-right: 1em; text-align: center; vertical-align: top\">0.0216850936413</td>\n",
       "        <td style=\"padding-left: 1em; padding-right: 1em; text-align: center; vertical-align: top\">3</td>\n",
       "    </tr>\n",
       "    <tr>\n",
       "        <td style=\"padding-left: 1em; padding-right: 1em; text-align: center; vertical-align: top\">PO-919586</td>\n",
       "        <td style=\"padding-left: 1em; padding-right: 1em; text-align: center; vertical-align: top\">Paper</td>\n",
       "        <td style=\"padding-left: 1em; padding-right: 1em; text-align: center; vertical-align: top\">0.0197260677814</td>\n",
       "        <td style=\"padding-left: 1em; padding-right: 1em; text-align: center; vertical-align: top\">4</td>\n",
       "    </tr>\n",
       "    <tr>\n",
       "        <td style=\"padding-left: 1em; padding-right: 1em; text-align: center; vertical-align: top\">PO-919586</td>\n",
       "        <td style=\"padding-left: 1em; padding-right: 1em; text-align: center; vertical-align: top\">Accessories</td>\n",
       "        <td style=\"padding-left: 1em; padding-right: 1em; text-align: center; vertical-align: top\">0.0195795297623</td>\n",
       "        <td style=\"padding-left: 1em; padding-right: 1em; text-align: center; vertical-align: top\">5</td>\n",
       "    </tr>\n",
       "    <tr>\n",
       "        <td style=\"padding-left: 1em; padding-right: 1em; text-align: center; vertical-align: top\">PO-919586</td>\n",
       "        <td style=\"padding-left: 1em; padding-right: 1em; text-align: center; vertical-align: top\">Chairs</td>\n",
       "        <td style=\"padding-left: 1em; padding-right: 1em; text-align: center; vertical-align: top\">0.0193439126015</td>\n",
       "        <td style=\"padding-left: 1em; padding-right: 1em; text-align: center; vertical-align: top\">6</td>\n",
       "    </tr>\n",
       "    <tr>\n",
       "        <td style=\"padding-left: 1em; padding-right: 1em; text-align: center; vertical-align: top\">PO-919586</td>\n",
       "        <td style=\"padding-left: 1em; padding-right: 1em; text-align: center; vertical-align: top\">Copiers</td>\n",
       "        <td style=\"padding-left: 1em; padding-right: 1em; text-align: center; vertical-align: top\">0.0176672339439</td>\n",
       "        <td style=\"padding-left: 1em; padding-right: 1em; text-align: center; vertical-align: top\">7</td>\n",
       "    </tr>\n",
       "    <tr>\n",
       "        <td style=\"padding-left: 1em; padding-right: 1em; text-align: center; vertical-align: top\">PO-919586</td>\n",
       "        <td style=\"padding-left: 1em; padding-right: 1em; text-align: center; vertical-align: top\">Storage</td>\n",
       "        <td style=\"padding-left: 1em; padding-right: 1em; text-align: center; vertical-align: top\">0.0146278738976</td>\n",
       "        <td style=\"padding-left: 1em; padding-right: 1em; text-align: center; vertical-align: top\">8</td>\n",
       "    </tr>\n",
       "    <tr>\n",
       "        <td style=\"padding-left: 1em; padding-right: 1em; text-align: center; vertical-align: top\">PO-919586</td>\n",
       "        <td style=\"padding-left: 1em; padding-right: 1em; text-align: center; vertical-align: top\">Furnishings</td>\n",
       "        <td style=\"padding-left: 1em; padding-right: 1em; text-align: center; vertical-align: top\">0.0141263604164</td>\n",
       "        <td style=\"padding-left: 1em; padding-right: 1em; text-align: center; vertical-align: top\">9</td>\n",
       "    </tr>\n",
       "    <tr>\n",
       "        <td style=\"padding-left: 1em; padding-right: 1em; text-align: center; vertical-align: top\">PO-919586</td>\n",
       "        <td style=\"padding-left: 1em; padding-right: 1em; text-align: center; vertical-align: top\">Art</td>\n",
       "        <td style=\"padding-left: 1em; padding-right: 1em; text-align: center; vertical-align: top\">0.0130718946457</td>\n",
       "        <td style=\"padding-left: 1em; padding-right: 1em; text-align: center; vertical-align: top\">10</td>\n",
       "    </tr>\n",
       "</table>\n",
       "[10 rows x 4 columns]<br/>\n",
       "</div>"
      ],
      "text/plain": [
       "Columns:\n",
       "\tUser ID\tstr\n",
       "\tSub-Category\tstr\n",
       "\tscore\tfloat\n",
       "\trank\tint\n",
       "\n",
       "Rows: 10\n",
       "\n",
       "Data:\n",
       "+-----------+--------------+-----------------+------+\n",
       "|  User ID  | Sub-Category |      score      | rank |\n",
       "+-----------+--------------+-----------------+------+\n",
       "| PO-919586 |   Binders    | 0.0228381454945 |  1   |\n",
       "| PO-919586 |    Phones    | 0.0225782096386 |  2   |\n",
       "| PO-919586 |  Bookcases   | 0.0216850936413 |  3   |\n",
       "| PO-919586 |    Paper     | 0.0197260677814 |  4   |\n",
       "| PO-919586 | Accessories  | 0.0195795297623 |  5   |\n",
       "| PO-919586 |    Chairs    | 0.0193439126015 |  6   |\n",
       "| PO-919586 |   Copiers    | 0.0176672339439 |  7   |\n",
       "| PO-919586 |   Storage    | 0.0146278738976 |  8   |\n",
       "| PO-919586 | Furnishings  | 0.0141263604164 |  9   |\n",
       "| PO-919586 |     Art      | 0.0130718946457 |  10  |\n",
       "+-----------+--------------+-----------------+------+\n",
       "[10 rows x 4 columns]"
      ]
     },
     "execution_count": 15,
     "metadata": {},
     "output_type": "execute_result"
    }
   ],
   "source": [
    "#For ist user\n",
    "personalized_model.recommend(users=[users[0]])"
   ]
  },
  {
   "cell_type": "code",
   "execution_count": 16,
   "metadata": {},
   "outputs": [
    {
     "data": {
      "text/html": [
       "<div style=\"max-height:1000px;max-width:1500px;overflow:auto;\"><table frame=\"box\" rules=\"cols\">\n",
       "    <tr>\n",
       "        <th style=\"padding-left: 1em; padding-right: 1em; text-align: center\">User ID</th>\n",
       "        <th style=\"padding-left: 1em; padding-right: 1em; text-align: center\">Sub-Category</th>\n",
       "        <th style=\"padding-left: 1em; padding-right: 1em; text-align: center\">score</th>\n",
       "        <th style=\"padding-left: 1em; padding-right: 1em; text-align: center\">rank</th>\n",
       "    </tr>\n",
       "    <tr>\n",
       "        <td style=\"padding-left: 1em; padding-right: 1em; text-align: center; vertical-align: top\">ME-18010120</td>\n",
       "        <td style=\"padding-left: 1em; padding-right: 1em; text-align: center; vertical-align: top\">Machines</td>\n",
       "        <td style=\"padding-left: 1em; padding-right: 1em; text-align: center; vertical-align: top\">0.030054628849</td>\n",
       "        <td style=\"padding-left: 1em; padding-right: 1em; text-align: center; vertical-align: top\">1</td>\n",
       "    </tr>\n",
       "    <tr>\n",
       "        <td style=\"padding-left: 1em; padding-right: 1em; text-align: center; vertical-align: top\">ME-18010120</td>\n",
       "        <td style=\"padding-left: 1em; padding-right: 1em; text-align: center; vertical-align: top\">Copiers</td>\n",
       "        <td style=\"padding-left: 1em; padding-right: 1em; text-align: center; vertical-align: top\">0.0287356376648</td>\n",
       "        <td style=\"padding-left: 1em; padding-right: 1em; text-align: center; vertical-align: top\">2</td>\n",
       "    </tr>\n",
       "    <tr>\n",
       "        <td style=\"padding-left: 1em; padding-right: 1em; text-align: center; vertical-align: top\">ME-18010120</td>\n",
       "        <td style=\"padding-left: 1em; padding-right: 1em; text-align: center; vertical-align: top\">Phones</td>\n",
       "        <td style=\"padding-left: 1em; padding-right: 1em; text-align: center; vertical-align: top\">0.0282542705536</td>\n",
       "        <td style=\"padding-left: 1em; padding-right: 1em; text-align: center; vertical-align: top\">3</td>\n",
       "    </tr>\n",
       "    <tr>\n",
       "        <td style=\"padding-left: 1em; padding-right: 1em; text-align: center; vertical-align: top\">ME-18010120</td>\n",
       "        <td style=\"padding-left: 1em; padding-right: 1em; text-align: center; vertical-align: top\">Chairs</td>\n",
       "        <td style=\"padding-left: 1em; padding-right: 1em; text-align: center; vertical-align: top\">0.0269396305084</td>\n",
       "        <td style=\"padding-left: 1em; padding-right: 1em; text-align: center; vertical-align: top\">4</td>\n",
       "    </tr>\n",
       "    <tr>\n",
       "        <td style=\"padding-left: 1em; padding-right: 1em; text-align: center; vertical-align: top\">ME-18010120</td>\n",
       "        <td style=\"padding-left: 1em; padding-right: 1em; text-align: center; vertical-align: top\">Storage</td>\n",
       "        <td style=\"padding-left: 1em; padding-right: 1em; text-align: center; vertical-align: top\">0.0228640437126</td>\n",
       "        <td style=\"padding-left: 1em; padding-right: 1em; text-align: center; vertical-align: top\">5</td>\n",
       "    </tr>\n",
       "    <tr>\n",
       "        <td style=\"padding-left: 1em; padding-right: 1em; text-align: center; vertical-align: top\">ME-18010120</td>\n",
       "        <td style=\"padding-left: 1em; padding-right: 1em; text-align: center; vertical-align: top\">Appliances</td>\n",
       "        <td style=\"padding-left: 1em; padding-right: 1em; text-align: center; vertical-align: top\">0.0223266482353</td>\n",
       "        <td style=\"padding-left: 1em; padding-right: 1em; text-align: center; vertical-align: top\">6</td>\n",
       "    </tr>\n",
       "    <tr>\n",
       "        <td style=\"padding-left: 1em; padding-right: 1em; text-align: center; vertical-align: top\">ME-18010120</td>\n",
       "        <td style=\"padding-left: 1em; padding-right: 1em; text-align: center; vertical-align: top\">Accessories</td>\n",
       "        <td style=\"padding-left: 1em; padding-right: 1em; text-align: center; vertical-align: top\">0.0213903784752</td>\n",
       "        <td style=\"padding-left: 1em; padding-right: 1em; text-align: center; vertical-align: top\">7</td>\n",
       "    </tr>\n",
       "    <tr>\n",
       "        <td style=\"padding-left: 1em; padding-right: 1em; text-align: center; vertical-align: top\">ME-18010120</td>\n",
       "        <td style=\"padding-left: 1em; padding-right: 1em; text-align: center; vertical-align: top\">Art</td>\n",
       "        <td style=\"padding-left: 1em; padding-right: 1em; text-align: center; vertical-align: top\">0.0168067216873</td>\n",
       "        <td style=\"padding-left: 1em; padding-right: 1em; text-align: center; vertical-align: top\">8</td>\n",
       "    </tr>\n",
       "    <tr>\n",
       "        <td style=\"padding-left: 1em; padding-right: 1em; text-align: center; vertical-align: top\">ME-18010120</td>\n",
       "        <td style=\"padding-left: 1em; padding-right: 1em; text-align: center; vertical-align: top\">Furnishings</td>\n",
       "        <td style=\"padding-left: 1em; padding-right: 1em; text-align: center; vertical-align: top\">0.0164744853973</td>\n",
       "        <td style=\"padding-left: 1em; padding-right: 1em; text-align: center; vertical-align: top\">9</td>\n",
       "    </tr>\n",
       "    <tr>\n",
       "        <td style=\"padding-left: 1em; padding-right: 1em; text-align: center; vertical-align: top\">ME-18010120</td>\n",
       "        <td style=\"padding-left: 1em; padding-right: 1em; text-align: center; vertical-align: top\">Binders</td>\n",
       "        <td style=\"padding-left: 1em; padding-right: 1em; text-align: center; vertical-align: top\">0.0144694447517</td>\n",
       "        <td style=\"padding-left: 1em; padding-right: 1em; text-align: center; vertical-align: top\">10</td>\n",
       "    </tr>\n",
       "</table>\n",
       "[10 rows x 4 columns]<br/>\n",
       "</div>"
      ],
      "text/plain": [
       "Columns:\n",
       "\tUser ID\tstr\n",
       "\tSub-Category\tstr\n",
       "\tscore\tfloat\n",
       "\trank\tint\n",
       "\n",
       "Rows: 10\n",
       "\n",
       "Data:\n",
       "+-------------+--------------+-----------------+------+\n",
       "|   User ID   | Sub-Category |      score      | rank |\n",
       "+-------------+--------------+-----------------+------+\n",
       "| ME-18010120 |   Machines   |  0.030054628849 |  1   |\n",
       "| ME-18010120 |   Copiers    | 0.0287356376648 |  2   |\n",
       "| ME-18010120 |    Phones    | 0.0282542705536 |  3   |\n",
       "| ME-18010120 |    Chairs    | 0.0269396305084 |  4   |\n",
       "| ME-18010120 |   Storage    | 0.0228640437126 |  5   |\n",
       "| ME-18010120 |  Appliances  | 0.0223266482353 |  6   |\n",
       "| ME-18010120 | Accessories  | 0.0213903784752 |  7   |\n",
       "| ME-18010120 |     Art      | 0.0168067216873 |  8   |\n",
       "| ME-18010120 | Furnishings  | 0.0164744853973 |  9   |\n",
       "| ME-18010120 |   Binders    | 0.0144694447517 |  10  |\n",
       "+-------------+--------------+-----------------+------+\n",
       "[10 rows x 4 columns]"
      ]
     },
     "execution_count": 16,
     "metadata": {},
     "output_type": "execute_result"
    }
   ],
   "source": [
    "#For user 2\n",
    "personalized_model.recommend(users=[users[1]])"
   ]
  },
  {
   "cell_type": "code",
   "execution_count": 17,
   "metadata": {},
   "outputs": [
    {
     "name": "stdout",
     "output_type": "stream",
     "text": [
      "PROGRESS: Evaluate model M0\n",
      "\n",
      "Precision and recall summary statistics by cutoff\n",
      "+--------+-----------------+----------------+\n",
      "| cutoff |  mean_precision |  mean_recall   |\n",
      "+--------+-----------------+----------------+\n",
      "|   1    |   0.1487236404  | 0.145394006659 |\n",
      "|   2    |  0.144284128746 | 0.281908990011 |\n",
      "|   3    |  0.144284128746 | 0.416944136145 |\n",
      "|   4    |  0.141509433962 | 0.542822789493 |\n",
      "|   5    |  0.130743618202 | 0.62273399926  |\n",
      "|   6    |  0.120976692564 | 0.688956714761 |\n",
      "|   7    |  0.11183341261  | 0.740751017388 |\n",
      "|   8    |  0.106779504255 | 0.805308916019 |\n",
      "|   9    |  0.101646318905 | 0.859322974473 |\n",
      "|   10   | 0.0934578862992 | 0.872918978912 |\n",
      "+--------+-----------------+----------------+\n",
      "[10 rows x 3 columns]\n",
      "\n",
      "PROGRESS: Evaluate model M1\n",
      "\n",
      "Precision and recall summary statistics by cutoff\n",
      "+--------+-----------------+-----------------+\n",
      "| cutoff |  mean_precision |   mean_recall   |\n",
      "+--------+-----------------+-----------------+\n",
      "|   1    | 0.0399556048835 | 0.0325564187939 |\n",
      "|   2    | 0.0394006659267 | 0.0662227155013 |\n",
      "|   3    | 0.0414354421014 |  0.106363300037 |\n",
      "|   4    | 0.0424528301887 |  0.147336293008 |\n",
      "|   5    | 0.0372918978912 |  0.158527561968 |\n",
      "|   6    | 0.0369959304477 |  0.190251572327 |\n",
      "|   7    |  0.035568944559 |  0.213096559378 |\n",
      "|   8    | 0.0382445431003 |  0.265630780614 |\n",
      "|   9    | 0.0423295104205 |  0.335738068812 |\n",
      "|   10   | 0.0500616598841 |  0.449870514243 |\n",
      "+--------+-----------------+-----------------+\n",
      "[10 rows x 3 columns]\n",
      "\n",
      "Model compare metric: precision_recall\n"
     ]
    }
   ],
   "source": [
    "model_performance = graphlab.compare(test_data, [popularity_model, personalized_model], user_sample=1)"
   ]
  },
  {
   "cell_type": "markdown",
   "metadata": {},
   "source": [
    "# User buying history and other detail"
   ]
  },
  {
   "cell_type": "code",
   "execution_count": 18,
   "metadata": {},
   "outputs": [],
   "source": [
    "def user_history(user):\n",
    "    lst = data[data['User ID'] == user]\n",
    "    print(lst)"
   ]
  },
  {
   "cell_type": "code",
   "execution_count": 19,
   "metadata": {},
   "outputs": [
    {
     "name": "stdout",
     "output_type": "stream",
     "text": [
      "+-----------+--------+-------------+------------+--------------+\n",
      "|  User ID  | Rating |  Product ID |  Category  | Sub-Category |\n",
      "+-----------+--------+-------------+------------+--------------+\n",
      "| PO-919586 |   2    | TEC-CO-3707 | Technology |   Copiers    |\n",
      "| PO-919586 |   3    | TEC-MA-4199 | Technology |   Machines   |\n",
      "| PO-919586 |   3    | FUR-TA-5060 | Furniture  |    Tables    |\n",
      "+-----------+--------+-------------+------------+--------------+\n",
      "+--------------------------------+-------+----------------+----+---------+----------+\n",
      "|          Description           | Price | Order Priority | X9 |  Profit | Discount |\n",
      "+--------------------------------+-------+----------------+----+---------+----------+\n",
      "| ASSORTED COLOUR BIRD ORNAMENT  |  1700 |     Medium     |    | $136.80 |   0.0    |\n",
      "| DOORMAT FANCY FONT HOME SW...  |  100  |     Medium     |    | $203.40 |   0.0    |\n",
      "| JUMBO  BAG BAROQUE BLACK WHITE |  2700 |     Medium     |    | $377.28 |   0.0    |\n",
      "+--------------------------------+-------+----------------+----+---------+----------+\n",
      "+--------------------+----------+\n",
      "| Quantity purchased |  Source  |\n",
      "+--------------------+----------+\n",
      "|         6          |  Amazon  |\n",
      "|         6          | Flipkart |\n",
      "|         2          | Flipkart |\n",
      "+--------------------+----------+\n",
      "[? rows x 13 columns]\n",
      "Note: Only the head of the SFrame is printed. This SFrame is lazily evaluated.\n",
      "You can use sf.materialize() to force materialization.\n"
     ]
    }
   ],
   "source": [
    "user_history(users[0])"
   ]
  },
  {
   "cell_type": "markdown",
   "metadata": {},
   "source": [
    "# Discount and rating based recommendation of product"
   ]
  },
  {
   "cell_type": "code",
   "execution_count": 20,
   "metadata": {},
   "outputs": [],
   "source": [
    "def rating_and_discount(product):\n",
    "    lst = data[data['Sub-Category']==product]\n",
    "    if len(lst) ==0:\n",
    "        lst = data[data['category']==product]\n",
    "    \n",
    "    lst = lst.sort('Rating', ascending=False)\n",
    "    for i in range(5,0,-1):\n",
    "        temp = lst[lst['Rating']==i]\n",
    "        temp = temp.sort('Discount', ascending=False)\n",
    "        print(temp['Rating','Source', 'Category', 'Sub-Category', 'Description', 'Price', 'Discount', 'Product ID'].head(5))"
   ]
  },
  {
   "cell_type": "code",
   "execution_count": 21,
   "metadata": {},
   "outputs": [
    {
     "name": "stdout",
     "output_type": "stream",
     "text": [
      "+--------+----------+------------+--------------+--------------------------------+\n",
      "| Rating |  Source  |  Category  | Sub-Category |          Description           |\n",
      "+--------+----------+------------+--------------+--------------------------------+\n",
      "|   5    | Flipkart | Technology |    Phones    | IVORY GIANT GARDEN THERMOMETER |\n",
      "|   5    |  Amazon  | Technology |    Phones    |        WRAP GREEN PEARS        |\n",
      "|   5    |  Amazon  | Technology |    Phones    |   WOODEN FRAME ANTIQUE WHITE   |\n",
      "|   5    | Flipkart | Technology |    Phones    |   POPPY'S PLAYHOUSE BEDROOM    |\n",
      "|   5    |  Myntra  | Technology |    Phones    | RED DRAWER KNOB ACRYLIC ED...  |\n",
      "+--------+----------+------------+--------------+--------------------------------+\n",
      "+-------+----------+-------------+\n",
      "| Price | Discount |  Product ID |\n",
      "+-------+----------+-------------+\n",
      "|  3000 |   0.5    | TEC-PH-3807 |\n",
      "|  200  |   0.5    | TEC-PH-5263 |\n",
      "|  3600 |   0.5    | TEC-PH-5268 |\n",
      "|  3100 |   0.5    | TEC-PH-5263 |\n",
      "|  700  |   0.5    | TEC-PH-3149 |\n",
      "+-------+----------+-------------+\n",
      "[5 rows x 8 columns]\n",
      "\n",
      "+--------+--------------+------------+--------------+\n",
      "| Rating |    Source    |  Category  | Sub-Category |\n",
      "+--------+--------------+------------+--------------+\n",
      "|   4    |   Flipkart   | Technology |    Phones    |\n",
      "|   4    | Local Market | Technology |    Phones    |\n",
      "|   4    |    Amazon    | Technology |    Phones    |\n",
      "|   4    | Local Market | Technology |    Phones    |\n",
      "|   4    |   Bewakoof   | Technology |    Phones    |\n",
      "+--------+--------------+------------+--------------+\n",
      "+--------------------------------+-------+----------+-------------+\n",
      "|          Description           | Price | Discount |  Product ID |\n",
      "+--------------------------------+-------+----------+-------------+\n",
      "|     JAM JAR WITH PINK LID      |  3500 |   0.6    | TEC-PH-5841 |\n",
      "| BIRD DECORATION RED RETROSPOT  |  800  |   0.6    | TEC-PH-5839 |\n",
      "| CHRISTMAS RETROSPOT HEART WOOD |  2000 |   0.5    | TEC-PH-5356 |\n",
      "| GREEN 3 PIECE POLKADOT CUT...  |  1100 |   0.5    | TEC-PH-5271 |\n",
      "|    ALARM CLOCK BAKELIKE RED    |  800  |   0.4    | TEC-PH-3815 |\n",
      "+--------------------------------+-------+----------+-------------+\n",
      "[5 rows x 8 columns]\n",
      "\n",
      "+--------+----------+------------+--------------+-------------------------------+\n",
      "| Rating |  Source  |  Category  | Sub-Category |          Description          |\n",
      "+--------+----------+------------+--------------+-------------------------------+\n",
      "|   3    |  Amazon  | Technology |    Phones    |    CUPCAKE LACE PAPER SET 6   |\n",
      "|   3    |  Myntra  | Technology |    Phones    |    CARD PSYCHEDELIC APPLES    |\n",
      "|   3    |  Myntra  | Technology |    Phones    | CREAM SLICE FLANNEL PINK SPOT |\n",
      "|   3    | Flipkart | Technology |    Phones    |    SKULLS SQUARE TISSUE BOX   |\n",
      "|   3    |  Amazon  | Technology |    Phones    |   JAZZ HEARTS PURSE NOTEBOOK  |\n",
      "+--------+----------+------------+--------------+-------------------------------+\n",
      "+-------+----------+-------------+\n",
      "| Price | Discount |  Product ID |\n",
      "+-------+----------+-------------+\n",
      "|  2900 |   0.7    | TEC-PH-5355 |\n",
      "|  1000 |   0.6    | TEC-PH-3805 |\n",
      "|  200  |   0.6    | TEC-PH-5839 |\n",
      "|  500  |   0.5    | TEC-PH-5263 |\n",
      "|  4000 |   0.5    | TEC-PH-3148 |\n",
      "+-------+----------+-------------+\n",
      "[5 rows x 8 columns]\n",
      "\n",
      "+--------+--------------+------------+--------------+\n",
      "| Rating |    Source    |  Category  | Sub-Category |\n",
      "+--------+--------------+------------+--------------+\n",
      "|   2    |    Myntra    | Technology |    Phones    |\n",
      "|   2    |   Bewakoof   | Technology |    Phones    |\n",
      "|   2    | Local Market | Technology |    Phones    |\n",
      "|   2    |   Flipkart   | Technology |    Phones    |\n",
      "|   2    | Local Market | Technology |    Phones    |\n",
      "+--------+--------------+------------+--------------+\n",
      "+-------------------------------+-------+----------+-------------+\n",
      "|          Description          | Price | Discount |  Product ID |\n",
      "+-------------------------------+-------+----------+-------------+\n",
      "|     JAM MAKING SET PRINTED    |  2400 |   0.7    | TEC-PH-3805 |\n",
      "| PANDA AND BUNNIES STICKER ... |  800  |   0.65   | TEC-PH-5269 |\n",
      "|      SMALL POPCORN HOLDER     |  1800 |   0.65   | TEC-PH-3805 |\n",
      "| WOODEN PICTURE FRAME WHITE... |  3500 |   0.6    | TEC-PH-5815 |\n",
      "| 15CM CHRISTMAS GLASS BALL ... |  3800 |   0.6    | TEC-PH-5355 |\n",
      "+-------------------------------+-------+----------+-------------+\n",
      "[5 rows x 8 columns]\n",
      "\n",
      "+--------+----------+------------+--------------+-------------------------------+\n",
      "| Rating |  Source  |  Category  | Sub-Category |          Description          |\n",
      "+--------+----------+------------+--------------+-------------------------------+\n",
      "|   1    | Flipkart | Technology |    Phones    | SET OF 20 VINTAGE CHRISTMA... |\n",
      "|   1    | Bewakoof | Technology |    Phones    |       CARD CIRCUS PARADE      |\n",
      "|   1    |  Amazon  | Technology |    Phones    |     RED RETROSPOT PEG BAG     |\n",
      "|   1    |  Amazon  | Technology |    Phones    |   DOORMAT RESPECTABLE HOUSE   |\n",
      "|   1    |  Amazon  | Technology |    Phones    | BLUE SPOT CERAMIC DRAWER KNOB |\n",
      "+--------+----------+------------+--------------+-------------------------------+\n",
      "+-------+----------+-------------+\n",
      "| Price | Discount |  Product ID |\n",
      "+-------+----------+-------------+\n",
      "|  500  |   0.6    | TEC-PH-5841 |\n",
      "|  900  |   0.6    | TEC-PH-3805 |\n",
      "|  1100 |   0.6    | TEC-PH-5268 |\n",
      "|  1800 |   0.5    | TEC-PH-3148 |\n",
      "|  2900 |   0.5    | TEC-PH-5830 |\n",
      "+-------+----------+-------------+\n",
      "[5 rows x 8 columns]\n",
      "\n"
     ]
    }
   ],
   "source": [
    "rating_and_discount('Phones')"
   ]
  },
  {
   "cell_type": "markdown",
   "metadata": {},
   "source": [
    "# Filter based Recommendation based on price"
   ]
  },
  {
   "cell_type": "code",
   "execution_count": 22,
   "metadata": {},
   "outputs": [],
   "source": [
    "def price(typeof,product):\n",
    "    lst = data[data['Sub-Category']==product]\n",
    "    if typeof==\"htl\":\n",
    "        lst = lst.sort('Price', ascending=False)\n",
    "    if typeof==\"lth\":\n",
    "        lst = lst.sort('Price', ascending=True)\n",
    "    print(lst['Rating','Source', 'Category', 'Sub-Category', 'Price', 'Discount', 'Product ID'])"
   ]
  },
  {
   "cell_type": "code",
   "execution_count": 23,
   "metadata": {},
   "outputs": [
    {
     "name": "stdout",
     "output_type": "stream",
     "text": [
      "+--------+--------------+-----------------+--------------+-------+----------+\n",
      "| Rating |    Source    |     Category    | Sub-Category | Price | Discount |\n",
      "+--------+--------------+-----------------+--------------+-------+----------+\n",
      "|   3    |   Flipkart   | Office Supplies |   Binders    |  100  |   0.8    |\n",
      "|   5    |   Bewakoof   | Office Supplies |   Binders    |  100  |   0.7    |\n",
      "|   4    | Local Market | Office Supplies |   Binders    |  100  |   0.0    |\n",
      "|   1    | Local Market | Office Supplies |   Binders    |  100  |   0.2    |\n",
      "|   2    |   Bewakoof   | Office Supplies |   Binders    |  200  |   0.0    |\n",
      "|   2    |    Myntra    | Office Supplies |   Binders    |  200  |   0.8    |\n",
      "|   3    | Local Market | Office Supplies |   Binders    |  200  |   0.7    |\n",
      "|   3    |    Amazon    | Office Supplies |   Binders    |  200  |   0.0    |\n",
      "|   2    |   Bewakoof   | Office Supplies |   Binders    |  300  |   0.2    |\n",
      "|   2    | Local Market | Office Supplies |   Binders    |  300  |   0.2    |\n",
      "+--------+--------------+-----------------+--------------+-------+----------+\n",
      "+-------------+\n",
      "|  Product ID |\n",
      "+-------------+\n",
      "| OFF-BI-6393 |\n",
      "| OFF-BI-3281 |\n",
      "| OFF-BI-4338 |\n",
      "| OFF-BI-4297 |\n",
      "| OFF-BI-6382 |\n",
      "| OFF-BI-4884 |\n",
      "| OFF-BI-2907 |\n",
      "| OFF-BI-5584 |\n",
      "| OFF-BI-3306 |\n",
      "| OFF-BI-5670 |\n",
      "+-------------+\n",
      "[160 rows x 7 columns]\n",
      "Note: Only the head of the SFrame is printed.\n",
      "You can use print_rows(num_rows=m, num_columns=n) to print more rows and columns.\n"
     ]
    }
   ],
   "source": [
    "price(\"lth\", 'Binders')"
   ]
  },
  {
   "cell_type": "markdown",
   "metadata": {},
   "source": [
    "# Function to access all type of models and features filtering"
   ]
  },
  {
   "cell_type": "code",
   "execution_count": 24,
   "metadata": {},
   "outputs": [],
   "source": [
    "def search(value):\n",
    "    temp = value.split()\n",
    "    if len(temp) == 2:\n",
    "        if temp[0] == 'popularity':\n",
    "            ind = temp[1].split('[')\n",
    "            ind = ind[1][:len(ind)-1]\n",
    "            print('Popularity Based reommendation\\n')\n",
    "            print(popularity_model.recommend([users[int(ind[0])]]))\n",
    "        elif temp[0] == 'personal':\n",
    "            ind = temp[1].split('[')\n",
    "            ind = ind[1][:len(ind)-1]\n",
    "            print('Personal Based reommendation\\n')\n",
    "            print(personalized_model.recommend([users[int(ind[0])]]))\n",
    "        elif temp[1] ==\"htl\" or \"hlt\":\n",
    "            print(price(temp[1],temp[0]))\n",
    "    else:\n",
    "        rating_and_discount(temp[0])\n",
    "        "
   ]
  },
  {
   "cell_type": "markdown",
   "metadata": {},
   "source": [
    "## Testing of search engine"
   ]
  },
  {
   "cell_type": "code",
   "execution_count": 25,
   "metadata": {},
   "outputs": [
    {
     "name": "stdout",
     "output_type": "stream",
     "text": [
      "Popularity Based reommendation\n",
      "\n",
      "+-----------+--------------+-------+------+\n",
      "|  User ID  | Sub-Category | score | rank |\n",
      "+-----------+--------------+-------+------+\n",
      "| PO-919586 |   Copiers    | 569.0 |  1   |\n",
      "| PO-919586 |  Bookcases   | 543.0 |  2   |\n",
      "| PO-919586 |    Phones    | 513.0 |  3   |\n",
      "| PO-919586 |    Chairs    | 440.0 |  4   |\n",
      "| PO-919586 |  Appliances  | 355.0 |  5   |\n",
      "| PO-919586 |   Storage    | 339.0 |  6   |\n",
      "| PO-919586 | Accessories  | 248.0 |  7   |\n",
      "| PO-919586 |   Binders    | 132.0 |  8   |\n",
      "| PO-919586 |    Paper     | 106.0 |  9   |\n",
      "| PO-919586 | Furnishings  | 103.0 |  10  |\n",
      "+-----------+--------------+-------+------+\n",
      "[10 rows x 4 columns]\n",
      "\n"
     ]
    }
   ],
   "source": [
    "search('popularity users[0]')"
   ]
  },
  {
   "cell_type": "code",
   "execution_count": 26,
   "metadata": {},
   "outputs": [
    {
     "name": "stdout",
     "output_type": "stream",
     "text": [
      "Personal Based reommendation\n",
      "\n",
      "+-----------+--------------+-----------------+------+\n",
      "|  User ID  | Sub-Category |      score      | rank |\n",
      "+-----------+--------------+-----------------+------+\n",
      "| CG-125207 |   Binders    | 0.0640588402748 |  1   |\n",
      "| CG-125207 |    Paper     | 0.0610628128052 |  2   |\n",
      "| CG-125207 |     Art      | 0.0471018237226 |  3   |\n",
      "| CG-125207 | Furnishings  | 0.0451276302338 |  4   |\n",
      "| CG-125207 |    Labels    | 0.0343793840969 |  5   |\n",
      "| CG-125207 |  Fasteners   | 0.0327710263869 |  6   |\n",
      "| CG-125207 |   Supplies   | 0.0270025589887 |  7   |\n",
      "| CG-125207 | Accessories  | 0.0265119601698 |  8   |\n",
      "| CG-125207 |   Storage    | 0.0248233185095 |  9   |\n",
      "| CG-125207 |    Phones    | 0.0230983881389 |  10  |\n",
      "+-----------+--------------+-----------------+------+\n",
      "[10 rows x 4 columns]\n",
      "\n"
     ]
    }
   ],
   "source": [
    "search('personal users[9]')"
   ]
  },
  {
   "cell_type": "code",
   "execution_count": 27,
   "metadata": {},
   "outputs": [
    {
     "name": "stdout",
     "output_type": "stream",
     "text": [
      "+--------+----------+-----------------+--------------+\n",
      "| Rating |  Source  |     Category    | Sub-Category |\n",
      "+--------+----------+-----------------+--------------+\n",
      "|   5    | Flipkart | Office Supplies |   Binders    |\n",
      "|   5    |  Amazon  | Office Supplies |   Binders    |\n",
      "|   5    | Bewakoof | Office Supplies |   Binders    |\n",
      "|   5    |  Myntra  | Office Supplies |   Binders    |\n",
      "|   5    |  Myntra  | Office Supplies |   Binders    |\n",
      "+--------+----------+-----------------+--------------+\n",
      "+-------------------------------+-------+----------+-------------+\n",
      "|          Description          | Price | Discount |  Product ID |\n",
      "+-------------------------------+-------+----------+-------------+\n",
      "|     WOODLAND CHARLOTTE BAG    |  1700 |   0.8    | OFF-BI-2924 |\n",
      "|   BREAD BIN DINER STYLE RED   |  2500 |   0.8    | OFF-BI-5636 |\n",
      "|     36 PENCILS TUBE SKULLS    |  1700 |   0.8    | OFF-BI-2904 |\n",
      "|      FELTCRAFT DOLL ROSIE     |  1500 |   0.7    | OFF-BI-6345 |\n",
      "| VINTAGE BILLBOARD LOVE/HAT... |  1600 |   0.7    | OFF-BI-4343 |\n",
      "+-------------------------------+-------+----------+-------------+\n",
      "[5 rows x 8 columns]\n",
      "\n",
      "+--------+--------------+-----------------+--------------+\n",
      "| Rating |    Source    |     Category    | Sub-Category |\n",
      "+--------+--------------+-----------------+--------------+\n",
      "|   4    |   Flipkart   | Office Supplies |   Binders    |\n",
      "|   4    |   Bewakoof   | Office Supplies |   Binders    |\n",
      "|   4    |    Amazon    | Office Supplies |   Binders    |\n",
      "|   4    | Local Market | Office Supplies |   Binders    |\n",
      "|   4    |   Flipkart   | Office Supplies |   Binders    |\n",
      "+--------+--------------+-----------------+--------------+\n",
      "+-------------------------------+-------+----------+-------------+\n",
      "|          Description          | Price | Discount |  Product ID |\n",
      "+-------------------------------+-------+----------+-------------+\n",
      "|  VINTAGE POST OFFICE CABINET  |  3300 |   0.8    | OFF-BI-4346 |\n",
      "|    JAM MAKING SET WITH JARS   |  800  |   0.7    | OFF-BI-4374 |\n",
      "|     RED SPOTTY BISCUIT TIN    |  2800 |   0.7    | OFF-BI-4353 |\n",
      "| PACK OF 12 RED RETROSPOT T... |  2400 |   0.7    | OFF-BI-5614 |\n",
      "|      GOLD PRINT PAPER BAG     |  1700 |   0.7    | OFF-BI-4567 |\n",
      "+-------------------------------+-------+----------+-------------+\n",
      "[5 rows x 8 columns]\n",
      "\n",
      "+--------+----------+-----------------+--------------+\n",
      "| Rating |  Source  |     Category    | Sub-Category |\n",
      "+--------+----------+-----------------+--------------+\n",
      "|   3    | Flipkart | Office Supplies |   Binders    |\n",
      "|   3    | Flipkart | Office Supplies |   Binders    |\n",
      "|   3    |  Amazon  | Office Supplies |   Binders    |\n",
      "|   3    | Bewakoof | Office Supplies |   Binders    |\n",
      "|   3    |  Myntra  | Office Supplies |   Binders    |\n",
      "+--------+----------+-----------------+--------------+\n",
      "+-------------------------------+-------+----------+-------------+\n",
      "|          Description          | Price | Discount |  Product ID |\n",
      "+-------------------------------+-------+----------+-------------+\n",
      "|   NOEL WOODEN BLOCK LETTERS   |  700  |   0.8    | OFF-BI-6391 |\n",
      "| FOLDING UMBRELLA RED/WHITE... |  100  |   0.8    | OFF-BI-6393 |\n",
      "| GREEN 3 PIECE POLKADOT CUT... |  3400 |   0.8    | OFF-BI-4377 |\n",
      "| FRIDGE MAGNETS LES ENFANTS... |  1700 |   0.8    | OFF-BI-4371 |\n",
      "|      HOT BATHS METAL SIGN     |  2000 |   0.7    | OFF-BI-3308 |\n",
      "+-------------------------------+-------+----------+-------------+\n",
      "[5 rows x 8 columns]\n",
      "\n",
      "+--------+----------+-----------------+--------------+\n",
      "| Rating |  Source  |     Category    | Sub-Category |\n",
      "+--------+----------+-----------------+--------------+\n",
      "|   2    |  Myntra  | Office Supplies |   Binders    |\n",
      "|   2    |  Amazon  | Office Supplies |   Binders    |\n",
      "|   2    | Bewakoof | Office Supplies |   Binders    |\n",
      "|   2    | Bewakoof | Office Supplies |   Binders    |\n",
      "|   2    |  Myntra  | Office Supplies |   Binders    |\n",
      "+--------+----------+-----------------+--------------+\n",
      "+--------------------------------+-------+----------+-------------+\n",
      "|          Description           | Price | Discount |  Product ID |\n",
      "+--------------------------------+-------+----------+-------------+\n",
      "|    JUMBO BAG RED RETROSPOT     |  2300 |   0.8    | OFF-BI-3749 |\n",
      "|   VINTAGE UNION JACK BUNTING   |  4000 |   0.8    | OFF-BI-3308 |\n",
      "|   RETRO COFFEE MUGS ASSORTED   |  3400 |   0.8    | OFF-BI-4355 |\n",
      "| ANT COPPER RED BOUDICCA BR...  |  1800 |   0.8    | OFF-BI-3319 |\n",
      "| CREAM CUPID HEARTS COAT HANGER |  200  |   0.8    | OFF-BI-4884 |\n",
      "+--------------------------------+-------+----------+-------------+\n",
      "[5 rows x 8 columns]\n",
      "\n",
      "+--------+--------------+-----------------+--------------+\n",
      "| Rating |    Source    |     Category    | Sub-Category |\n",
      "+--------+--------------+-----------------+--------------+\n",
      "|   1    |   Bewakoof   | Office Supplies |   Binders    |\n",
      "|   1    |    Amazon    | Office Supplies |   Binders    |\n",
      "|   1    | Local Market | Office Supplies |   Binders    |\n",
      "|   1    |   Bewakoof   | Office Supplies |   Binders    |\n",
      "|   1    |    Amazon    | Office Supplies |   Binders    |\n",
      "+--------+--------------+-----------------+--------------+\n",
      "+-------------------------------+-------+----------+-------------+\n",
      "|          Description          | Price | Discount |  Product ID |\n",
      "+-------------------------------+-------+----------+-------------+\n",
      "| HANGING CHICK  YELLOW DECO... |  2100 |   0.8    | OFF-BI-4885 |\n",
      "| CHARLIE+LOLA PINK HOT WATE... |  1200 |   0.8    | OFF-BI-2905 |\n",
      "|       TRAVEL SEWING KIT       |  500  |   0.8    | OFF-BI-3308 |\n",
      "|   CHARLOTTE BAG SUKI DESIGN   |  1200 |   0.8    | OFF-BI-5640 |\n",
      "|  DOVE DECORATION PAINTED ZINC |  3400 |   0.8    | OFF-BI-3732 |\n",
      "+-------------------------------+-------+----------+-------------+\n",
      "[5 rows x 8 columns]\n",
      "\n"
     ]
    }
   ],
   "source": [
    "search('Binders')"
   ]
  },
  {
   "cell_type": "code",
   "execution_count": null,
   "metadata": {},
   "outputs": [],
   "source": []
  }
 ],
 "metadata": {
  "kernelspec": {
   "display_name": "Python 2",
   "language": "python",
   "name": "python2"
  },
  "language_info": {
   "codemirror_mode": {
    "name": "ipython",
    "version": 2
   },
   "file_extension": ".py",
   "mimetype": "text/x-python",
   "name": "python",
   "nbconvert_exporter": "python",
   "pygments_lexer": "ipython2",
   "version": "2.7.15"
  }
 },
 "nbformat": 4,
 "nbformat_minor": 2
}
